{
 "cells": [
  {
   "cell_type": "code",
   "execution_count": null,
   "id": "08498ce0",
   "metadata": {},
   "outputs": [],
   "source": [
    "# # 导入模块\n",
    "# import os\n",
    "# # 设置代理。这里 1080 既可以是 http 代理的端口，也可以是 socks5 代理的端口\n",
    "# proxy = 'http://166.111.83.46:17890'\n",
    "# os.environ['http_proxy'] = proxy\n",
    "# os.environ['HTTP_PROXY'] = proxy\n",
    "# os.environ['https_proxy'] = proxy\n",
    "# os.environ['HTTPS_PROXY'] = proxy"
   ]
  },
  {
   "cell_type": "markdown",
   "id": "8803efa6-682e-4525-a5ab-511fda091cbb",
   "metadata": {
    "pycharm": {
     "name": "#%% md\n"
    },
    "tags": []
   },
   "source": [
    "# ViperGPT -- Quick Start\n",
    "\n",
    "This notebook is meant to be a quick entry into ViperGPT. **Warning:** This notebook will execute arbitrary code on your machine. Proceed at your own risk.\n",
    "\n",
    "Before running this code, modify any parameters at `configs/my_config.yaml`. For example, you may want to change the BLIP model (`blip_v2_model_type`) from XXL to XL if your GPU does not have enough memory."
   ]
  },
  {
   "cell_type": "code",
   "execution_count": null,
   "id": "c38a2623-4220-41ea-a1cb-a95ad2e41d83",
   "metadata": {
    "pycharm": {
     "name": "#%%\n"
    },
    "tags": []
   },
   "outputs": [],
   "source": [
    "from main_simple_lib import *"
   ]
  },
  {
   "cell_type": "code",
   "execution_count": null,
   "id": "eff3e340",
   "metadata": {},
   "outputs": [],
   "source": [
    "import os\n",
    "os.environ['OPENAI_API_BASE'] = 'https://api.chatanywhere.tech/v1'\n",
    "os.environ['OPENAI_API_KEY'] = 'sk-86MpCURClgqJtTQkvFrOe9m6mLRmv93rdXd5vYs7cLDCzlj1'"
   ]
  },
  {
   "cell_type": "code",
   "execution_count": null,
   "id": "64b1841c",
   "metadata": {
    "pycharm": {
     "name": "#%%\n"
    }
   },
   "outputs": [],
   "source": [
    "im = load_image('https://viper.cs.columbia.edu/static/images/kids_muffins.jpg')\n",
    "query = 'How many muffins can each kid have for it to be fair?'\n",
    "\n",
    "show_single_image(im)\n",
    "code = get_code(query)"
   ]
  },
  {
   "cell_type": "code",
   "execution_count": null,
   "id": "e2de1e4e",
   "metadata": {
    "pycharm": {
     "name": "#%%\n"
    }
   },
   "outputs": [],
   "source": [
    "execute_code(code, im, show_intermediate_steps=True)"
   ]
  }
 ],
 "metadata": {
  "kernelspec": {
   "display_name": "vipergpt",
   "language": "python",
   "name": "python3"
  },
  "language_info": {
   "codemirror_mode": {
    "name": "ipython",
    "version": 3
   },
   "file_extension": ".py",
   "mimetype": "text/x-python",
   "name": "python",
   "nbconvert_exporter": "python",
   "pygments_lexer": "ipython3",
   "version": "3.10.15"
  }
 },
 "nbformat": 4,
 "nbformat_minor": 5
}
