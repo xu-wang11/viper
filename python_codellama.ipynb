{
 "cells": [
  {
   "cell_type": "code",
   "execution_count": null,
   "metadata": {},
   "outputs": [],
   "source": [
    "import os\n",
    "os.environ['CONFIG_NAMES'] = 'python_codellama'\n",
    "\n",
    "from main_simple_lib import *\n",
    "im = load_image('https://viper.cs.columbia.edu/static/images/kids_muffins.jpg')\n",
    "query = 'How many muffins can each kid have for it to be fair?'\n",
    "\n",
    "show_single_image(im)\n",
    "code = get_code(query)\n",
    "\n",
    "\n"
   ]
  }
 ],
 "metadata": {
  "kernelspec": {
   "display_name": "vipergpt",
   "language": "python",
   "name": "python3"
  },
  "language_info": {
   "codemirror_mode": {
    "name": "ipython",
    "version": 3
   },
   "file_extension": ".py",
   "mimetype": "text/x-python",
   "name": "python",
   "nbconvert_exporter": "python",
   "pygments_lexer": "ipython3",
   "version": "3.10.15"
  }
 },
 "nbformat": 4,
 "nbformat_minor": 2
}
